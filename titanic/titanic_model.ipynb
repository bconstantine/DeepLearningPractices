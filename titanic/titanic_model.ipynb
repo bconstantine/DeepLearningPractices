{
 "cells": [
  {
   "cell_type": "code",
   "execution_count": 1,
   "metadata": {},
   "outputs": [
    {
     "name": "stdout",
     "output_type": "stream",
     "text": [
      "importing Jupyter notebook from deep_learning_equations.ipynb\n",
      "(array([1.1, 0. , 0.9]), array([1.1, 0. , 0.9]))\n"
     ]
    }
   ],
   "source": [
    "import numpy as np\n",
    "import pandas as pd\n",
    "import import_ipynb\n",
    "from deep_learning_equations import model,forward_propagation_deep,init_parameters_deep_normal,compute_cost,testing\n",
    "from sklearn.metrics import accuracy_score, precision_score, recall_score,f1_score,confusion_matrix"
   ]
  },
  {
   "cell_type": "code",
   "execution_count": 2,
   "metadata": {},
   "outputs": [
    {
     "name": "stdout",
     "output_type": "stream",
     "text": [
      "   PassengerId  Survived  Pclass  \\\n",
      "0            1         0       3   \n",
      "1            2         1       1   \n",
      "2            3         1       3   \n",
      "3            4         1       1   \n",
      "4            5         0       3   \n",
      "\n",
      "                                                Name     Sex   Age  SibSp  \\\n",
      "0                            Braund, Mr. Owen Harris    male  22.0      1   \n",
      "1  Cumings, Mrs. John Bradley (Florence Briggs Th...  female  38.0      1   \n",
      "2                             Heikkinen, Miss. Laina  female  26.0      0   \n",
      "3       Futrelle, Mrs. Jacques Heath (Lily May Peel)  female  35.0      1   \n",
      "4                           Allen, Mr. William Henry    male  35.0      0   \n",
      "\n",
      "   Parch            Ticket     Fare Cabin Embarked  \n",
      "0      0         A/5 21171   7.2500   NaN        S  \n",
      "1      0          PC 17599  71.2833   C85        C  \n",
      "2      0  STON/O2. 3101282   7.9250   NaN        S  \n",
      "3      0            113803  53.1000  C123        S  \n",
      "4      0            373450   8.0500   NaN        S  \n"
     ]
    }
   ],
   "source": [
    "df=pd.read_csv(\"train.csv\")\n",
    "print(df.head())"
   ]
  },
  {
   "cell_type": "code",
   "execution_count": 53,
   "metadata": {},
   "outputs": [
    {
     "name": "stdout",
     "output_type": "stream",
     "text": [
      "(1, 666)\n"
     ]
    }
   ],
   "source": [
    "Y=df[\"Survived\"][0:666].values\n",
    "Y=Y.reshape(1,-1)\n",
    "print(Y.shape)"
   ]
  },
  {
   "cell_type": "code",
   "execution_count": 32,
   "metadata": {},
   "outputs": [
    {
     "name": "stdout",
     "output_type": "stream",
     "text": [
      "[[1 0 3 ... nan 'S' True]\n",
      " [5 0 3 ... nan 'S' True]\n",
      " [6 0 3 ... nan 'Q' True]\n",
      " ...\n",
      " [887 0 2 ... nan 'S' True]\n",
      " [890 1 1 ... 'C148' 'C' True]\n",
      " [891 0 3 ... nan 'Q' True]]\n"
     ]
    }
   ],
   "source": [
    "df[\"Male\"] = df[\"Sex\"] == \"male\"\n",
    "numpyArr = df.values\n",
    "numpyMask = df[\"Male\"].values\n",
    "print(numpyArr[numpyMask])"
   ]
  },
  {
   "cell_type": "code",
   "execution_count": 26,
   "metadata": {},
   "outputs": [],
   "source": [
    "df[\"Male\"]=df[\"Sex\"]==\"male\"\n",
    "converted=df[\"Male\"].astype(int)\n",
    "df[\"Male\"]=converted"
   ]
  },
  {
   "cell_type": "code",
   "execution_count": 55,
   "metadata": {},
   "outputs": [
    {
     "name": "stdout",
     "output_type": "stream",
     "text": [
      "0      0.014151\n",
      "1      0.139136\n",
      "2      0.015469\n",
      "3      0.103644\n",
      "4      0.015713\n",
      "         ...   \n",
      "886    0.025374\n",
      "887    0.058556\n",
      "888    0.045771\n",
      "889    0.058556\n",
      "890    0.015127\n",
      "Name: Fare, Length: 891, dtype: float64\n"
     ]
    }
   ],
   "source": [
    "df.Age.fillna((df[\"Age\"].mean()),inplace=True)\n",
    "df.Pclass.fillna((df[\"Pclass\"].mean()),inplace=True)\n",
    "df.Male.fillna((df[\"Male\"].mean()),inplace=True)\n",
    "df.SibSp.fillna((df[\"SibSp\"].mean()),inplace=True)\n",
    "df.Parch.fillna((df[\"Parch\"].mean()),inplace=True)\n",
    "df.Fare.fillna((df[\"Fare\"].mean()),inplace=True)\n",
    "df[\"Age\"]=df[\"Age\"]/df[\"Age\"].max()\n",
    "df['Fare']=df[\"Fare\"]/df[\"Fare\"].max()\n",
    "print(df[\"Fare\"])"
   ]
  },
  {
   "cell_type": "code",
   "execution_count": 56,
   "metadata": {},
   "outputs": [
    {
     "name": "stdout",
     "output_type": "stream",
     "text": [
      "(1, 666)\n"
     ]
    }
   ],
   "source": [
    "print(Y.shape)"
   ]
  },
  {
   "cell_type": "code",
   "execution_count": 57,
   "metadata": {},
   "outputs": [
    {
     "name": "stdout",
     "output_type": "stream",
     "text": [
      "<class 'numpy.ndarray'>\n",
      "(6, 666)\n",
      "(1, 666)\n"
     ]
    }
   ],
   "source": [
    "X=(df[[\"Pclass\",\"Male\",\"Age\",\"SibSp\",\"Parch\",\"Fare\"]][0:666]).values\n",
    "X=X.T\n",
    "assert(np.isnan(X).any()==False)\n",
    "print(type(X))\n",
    "print(X.shape)\n",
    "print(Y.shape)"
   ]
  },
  {
   "cell_type": "code",
   "execution_count": 70,
   "metadata": {
    "scrolled": false
   },
   "outputs": [
    {
     "name": "stdout",
     "output_type": "stream",
     "text": [
      "Cost after 0 iteration: 0.7197220834777\n",
      "Cost after 100 iteration: 0.5086037508378665\n",
      "Cost after 200 iteration: 0.44996762598373063\n",
      "Cost after 300 iteration: 0.44480046027467585\n",
      "Cost after 400 iteration: 0.44409973349601434\n",
      "Cost after 500 iteration: 0.443635227515113\n",
      "Cost after 600 iteration: 0.44359221444078045\n",
      "Cost after 700 iteration: 0.4434603325820129\n",
      "Cost after 800 iteration: 0.4433855372119038\n",
      "Cost after 900 iteration: 0.44330122142647027\n",
      "Cost after 1000 iteration: 0.4432618595091134\n",
      "Cost after 1100 iteration: 0.44321518024923434\n",
      "Cost after 1200 iteration: 0.44324646825851033\n",
      "Cost after 1300 iteration: 0.4432225287119144\n",
      "Cost after 1400 iteration: 0.44320444598209785\n",
      "Cost after 1500 iteration: 0.4431407198241352\n",
      "Cost after 1600 iteration: 0.4430855947440551\n",
      "Cost after 1700 iteration: 0.44304941504378637\n",
      "Cost after 1800 iteration: 0.4430101378008311\n",
      "Cost after 1900 iteration: 0.443119645124614\n",
      "Cost after 2000 iteration: 0.4429863841290109\n",
      "Cost after 2100 iteration: 0.4429697146225399\n",
      "Cost after 2200 iteration: 0.44299101553004794\n",
      "Cost after 2300 iteration: 0.44272943362728967\n",
      "Cost after 2400 iteration: 0.44258464788915075\n",
      "Cost after 2500 iteration: 0.4424032930543956\n",
      "Cost after 2600 iteration: 0.44234369605174745\n",
      "Cost after 2700 iteration: 0.4424282770771699\n",
      "Cost after 2800 iteration: 0.44224726104289924\n",
      "Cost after 2900 iteration: 0.44215641943717743\n",
      "Cost after 3000 iteration: 0.4421751639768139\n",
      "Cost after 3100 iteration: 0.44222954418466975\n",
      "Cost after 3200 iteration: 0.4422047947160274\n",
      "Cost after 3300 iteration: 0.44205602299264035\n",
      "Cost after 3400 iteration: 0.4420481521279191\n",
      "Cost after 3500 iteration: 0.4421070066253382\n",
      "Cost after 3600 iteration: 0.4420986798692351\n",
      "Cost after 3700 iteration: 0.44212921464178\n",
      "Cost after 3800 iteration: 0.44200198113699424\n",
      "Cost after 3900 iteration: 0.44198412928579933\n",
      "Cost after 4000 iteration: 0.442167663188406\n",
      "Cost after 4100 iteration: 0.44175475029533434\n",
      "Cost after 4200 iteration: 0.4417011733079495\n",
      "Cost after 4300 iteration: 0.44163662273851767\n",
      "Cost after 4400 iteration: 0.4415922158186704\n",
      "Cost after 4500 iteration: 0.44156395340203863\n",
      "Cost after 4600 iteration: 0.4415524709140003\n",
      "Cost after 4700 iteration: 0.4415080739311571\n",
      "Cost after 4800 iteration: 0.4397919099268835\n",
      "Cost after 4900 iteration: 0.4397481022629837\n",
      "Cost after 5000 iteration: 0.439750855280922\n",
      "Cost after 5100 iteration: 0.43958435685498165\n",
      "Cost after 5200 iteration: 0.4398523747109851\n",
      "Cost after 5300 iteration: 0.43984205610868965\n",
      "Cost after 5400 iteration: 0.43986802289260596\n",
      "Cost after 5500 iteration: 0.4395404344876825\n",
      "Cost after 5600 iteration: 0.4395722324667513\n",
      "Cost after 5700 iteration: 0.4395480949741897\n",
      "Cost after 5800 iteration: 0.43954153856649314\n",
      "Cost after 5900 iteration: 0.43954862335169087\n",
      "Cost after 6000 iteration: 0.439646518325563\n",
      "Cost after 6100 iteration: 0.43952570315749767\n",
      "Cost after 6200 iteration: 0.43955292027290965\n",
      "Cost after 6300 iteration: 0.4395150047708815\n",
      "Cost after 6400 iteration: 0.439637355602015\n",
      "Cost after 6500 iteration: 0.4395666626192861\n",
      "Cost after 6600 iteration: 0.43975661984808195\n",
      "Cost after 6700 iteration: 0.4397601241565285\n",
      "Cost after 6800 iteration: 0.43990519878478707\n",
      "Cost after 6900 iteration: 0.43952254075069336\n",
      "Cost after 7000 iteration: 0.43952093498268374\n",
      "Cost after 7100 iteration: 0.4397355466993474\n",
      "Cost after 7200 iteration: 0.4395222703912618\n",
      "Cost after 7300 iteration: 0.4398257642320718\n",
      "Cost after 7400 iteration: 0.4395883007950226\n",
      "Cost after 7500 iteration: 0.4396284383127181\n",
      "Cost after 7600 iteration: 0.4396991156472926\n",
      "Cost after 7700 iteration: 0.43953128111635675\n",
      "Cost after 7800 iteration: 0.43951912638523405\n",
      "Cost after 7900 iteration: 0.4395458489129434\n",
      "Cost after 8000 iteration: 0.4396913734813858\n",
      "Cost after 8100 iteration: 0.4395666705462715\n",
      "Cost after 8200 iteration: 0.4397058453719857\n",
      "Cost after 8300 iteration: 0.4397593791882495\n",
      "Cost after 8400 iteration: 0.43951110321048\n",
      "Cost after 8500 iteration: 0.439517040920925\n",
      "Cost after 8600 iteration: 0.4395586545346804\n",
      "Cost after 8700 iteration: 0.4398546865929373\n",
      "Cost after 8800 iteration: 0.43950837079373056\n",
      "Cost after 8900 iteration: 0.43952997427613594\n",
      "Cost after 9000 iteration: 0.4395197741953626\n",
      "Cost after 9100 iteration: 0.4398067774267525\n",
      "Cost after 9200 iteration: 0.4397462858327619\n",
      "Cost after 9300 iteration: 0.44004238574712135\n",
      "Cost after 9400 iteration: 0.4395176980721632\n",
      "Cost after 9500 iteration: 0.43956168643311655\n",
      "Cost after 9600 iteration: 0.43953284629056033\n",
      "Cost after 9700 iteration: 0.4395359162718009\n",
      "Cost after 9800 iteration: 0.4401192937999117\n",
      "Cost after 9900 iteration: 0.43976566393971384\n"
     ]
    },
    {
     "data": {
      "image/png": "[encoded data removed]",
      "text/plain": [
       "<Figure size 432x288 with 1 Axes>"
      ]
     },
     "metadata": {
      "needs_background": "light"
     },
     "output_type": "display_data"
    }
   ],
   "source": [
    "parameters=model(X,Y,[6,6,3,3,1],\"relu\",\"sigmoid\",10000,0.01,printcost=True,init=\"he\",keep_prob=1.0,lambd=1.5,epsilon=0,grad_desc=\"adam\")\n",
    "result,_=forward_propagation_deep(X, parameters, \"relu\", \"sigmoid\")"
   ]
  },
  {
   "cell_type": "code",
   "execution_count": null,
   "metadata": {},
   "outputs": [],
   "source": []
  },
  {
   "cell_type": "code",
   "execution_count": 71,
   "metadata": {},
   "outputs": [],
   "source": [
    "def testingpseudo(X,Y,parameters,activation1,activation_final):\n",
    "    \"\"\"input:\n",
    "    parameters= a dictionary of parameters that have been trained previously\n",
    "    layerdims=a list containing the amount of nodes in each layer\n",
    "    result= matrix containing the target value\n",
    "    activation1=the activation function for layer 1 - layer L-1\n",
    "    activation2=the activation function for layer L\n",
    "    \n",
    "    \n",
    "    Output:\n",
    "    accuracy=the accuracy of the output that is given by the model\"\"\"\n",
    "    AL,caches=forward_propagation_deep(X, parameters, activation1, activation_final)\n",
    "    m=int(AL.shape[1])\n",
    "    output=np.zeros((1,m))\n",
    "    \n",
    "    for i in range(0,m):\n",
    "        if AL[0,i]>0.5:\n",
    "            output[0,i]=1\n",
    "        else:\n",
    "            output[0,i]=0\n",
    "    accuracy=np.sum((output==Y)/m)\n",
    "    return accuracy"
   ]
  },
  {
   "cell_type": "code",
   "execution_count": 72,
   "metadata": {},
   "outputs": [],
   "source": [
    "accuracy=testingpseudo(X,Y,parameters,\"relu\",\"sigmoid\")"
   ]
  },
  {
   "cell_type": "code",
   "execution_count": 73,
   "metadata": {},
   "outputs": [
    {
     "name": "stdout",
     "output_type": "stream",
     "text": [
      "0.8243243243243243\n"
     ]
    }
   ],
   "source": [
    "print(accuracy)"
   ]
  },
  {
   "cell_type": "code",
   "execution_count": null,
   "metadata": {},
   "outputs": [],
   "source": []
  },
  {
   "cell_type": "code",
   "execution_count": 25,
   "metadata": {},
   "outputs": [
    {
     "name": "stdout",
     "output_type": "stream",
     "text": [
      "(6, 225)\n",
      "(225,)\n"
     ]
    }
   ],
   "source": [
    "Xtest=df[[\"Pclass\",\"Male\",\"Age\",\"SibSp\",\"Parch\",\"Fare\"]][666:].values\n",
    "Xtest=Xtest.T\n",
    "print(Xtest.shape)\n",
    "\n",
    "Ytest=df[\"Survived\"][666:].values\n",
    "Ytest.reshape(1,-1)\n",
    "print(Ytest.shape)"
   ]
  },
  {
   "cell_type": "code",
   "execution_count": null,
   "metadata": {},
   "outputs": [],
   "source": [
    "accuracy=testingpseudo(Xtest,Ytest,parameters,\"relu\",\"sigmoid\")"
   ]
  },
  {
   "cell_type": "code",
   "execution_count": null,
   "metadata": {},
   "outputs": [],
   "source": [
    "print(accuracy)\n",
    "testdf=pd.read_csv(\"test.csv\")\n",
    "testdf[\"Male\"]=(testdf[\"Sex\"]==\"male\").astype(int)\n",
    "testdf.Age.fillna((df[\"Age\"].mean()),inplace=True)\n",
    "testdf.Pclass.fillna((df[\"Pclass\"].mean()),inplace=True)\n",
    "testdf.Male.fillna((df[\"Male\"].mean()),inplace=True)\n",
    "testdf.SibSp.fillna((df[\"SibSp\"].mean()),inplace=True)\n",
    "testdf.Parch.fillna((df[\"Parch\"].mean()),inplace=True)\n",
    "testdf.Fare.fillna((df[\"Fare\"].mean()),inplace=True)\n",
    "Xpredict=testdf[[\"Pclass\",\"Male\",\"Age\",\"SibSp\",\"Parch\",\"Fare\"]].values\n",
    "Xpredict=Xpredict.T\n",
    "\n",
    "print(Xpredict.shape)"
   ]
  },
  {
   "cell_type": "code",
   "execution_count": null,
   "metadata": {},
   "outputs": [],
   "source": [
    "def predict(X,parameters,activation1,activation_final):\n",
    "    AL,caches=forward_propagation_deep(X, parameters, activation1, activation_final)\n",
    "    m=int(AL.shape[1])\n",
    "    output=np.zeros((1,m))\n",
    "    \n",
    "    for i in range(0,m):\n",
    "        if AL[0,i]>0.5:\n",
    "            output[0,i]=1\n",
    "        else:\n",
    "            output[0,i]=0\n",
    "    return output"
   ]
  },
  {
   "cell_type": "code",
   "execution_count": null,
   "metadata": {},
   "outputs": [],
   "source": [
    "tfpredict=predict(Xpredict,parameters,\"relu\",\"sigmoid\")"
   ]
  },
  {
   "cell_type": "code",
   "execution_count": null,
   "metadata": {},
   "outputs": [],
   "source": [
    "m=Xpredict.shape[1]\n",
    "print(\"Survived: \")\n",
    "count=0\n",
    "for i in range(0,m):\n",
    "    if tfpredict[0,i]==1:\n",
    "        count+=1\n",
    "        print(df[\"Name\"][i])\n",
    "print(\"amount: \"+str(count))\n",
    "print(\"\\n\\nNot survived:\")\n",
    "count=0\n",
    "for i in range(0,m):\n",
    "    if tfpredict[0,i]==0:\n",
    "        count+=1\n",
    "        print(df[\"Name\"][i])\n",
    "print(\"amount: \"+str(count))"
   ]
  },
  {
   "cell_type": "code",
   "execution_count": null,
   "metadata": {},
   "outputs": [],
   "source": [
    "Bryan=np.array([[1],[1],[60],[0],[0],[100]])\n",
    "Bryanpredict=predict(Bryan,parameters,\"relu\",\"sigmoid\")"
   ]
  },
  {
   "cell_type": "code",
   "execution_count": null,
   "metadata": {},
   "outputs": [],
   "source": [
    "print(Bryanpredict)"
   ]
  },
  {
   "cell_type": "code",
   "execution_count": null,
   "metadata": {},
   "outputs": [],
   "source": [
    "data={'PassengerId':testdf[\"PassengerId\"],\n",
    "     'Survived':np.squeeze(tfpredict)}\n",
    "submission=pd.DataFrame(data)\n",
    "submission.to_csv('submission.csv')"
   ]
  },
  {
   "cell_type": "code",
   "execution_count": null,
   "metadata": {},
   "outputs": [],
   "source": [
    "ymeasure=df[\"Survived\"]\n",
    "Xmeasure=df[[\"Pclass\",\"Male\",\"Age\",\"SibSp\",\"Parch\",\"Fare\"]].values\n",
    "Xmeasure=Xmeasure.T\n",
    "Ymeasure_pred=predict(Xmeasure,parameters,\"relu\",\"sigmoid\")\n",
    "Ymeasure_pred=Ymeasure_pred.T\n",
    "print(\"accuracy: \"+str(accuracy_score(ymeasure,Ymeasure_pred)))\n",
    "print(\"precision: \"+str(precision_score(ymeasure,Ymeasure_pred)))\n",
    "print(\"recall: \"+str(recall_score(ymeasure,Ymeasure_pred)))\n",
    "print(\"f1: \"+str(f1_score(ymeasure,Ymeasure_pred)))\n",
    "print(confusion_matrix(ymeasure,Ymeasure_pred))"
   ]
  },
  {
   "cell_type": "code",
   "execution_count": null,
   "metadata": {},
   "outputs": [],
   "source": []
  },
  {
   "cell_type": "code",
   "execution_count": null,
   "metadata": {},
   "outputs": [],
   "source": []
  }
 ],
 "metadata": {
  "kernelspec": {
   "display_name": "Python 3",
   "language": "python",
   "name": "python3"
  },
  "language_info": {
   "codemirror_mode": {
    "name": "ipython",
    "version": 3
   },
   "file_extension": ".py",
   "mimetype": "text/x-python",
   "name": "python",
   "nbconvert_exporter": "python",
   "pygments_lexer": "ipython3",
   "version": "3.7.6"
  }
 },
 "nbformat": 4,
 "nbformat_minor": 4
}
