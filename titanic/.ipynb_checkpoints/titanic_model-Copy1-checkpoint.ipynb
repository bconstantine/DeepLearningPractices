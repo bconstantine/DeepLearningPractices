{
 "cells": [
  {
   "cell_type": "code",
   "execution_count": null,
   "metadata": {},
   "outputs": [],
   "source": [
    "import numpy as np\n",
    "import pandas as pd\n",
    "import import_ipynb\n",
    "from deep_learning_equations import model,forward_propagation_deep,init_parameters_deep,compute_cost,testing\n",
    "from sklearn.metrics import accuracy_score, precision_score, recall_score,f1_score,confusion_matrix"
   ]
  },
  {
   "cell_type": "code",
   "execution_count": null,
   "metadata": {},
   "outputs": [],
   "source": [
    "df=pd.read_csv(\"train.csv\")\n",
    "print(df.head())"
   ]
  },
  {
   "cell_type": "code",
   "execution_count": null,
   "metadata": {},
   "outputs": [],
   "source": [
    "Y=df[\"Survived\"][0:666].values\n",
    "Y.reshape(1,-1)\n",
    "print(Y.shape)"
   ]
  },
  {
   "cell_type": "code",
   "execution_count": null,
   "metadata": {},
   "outputs": [],
   "source": [
    "print(df[\"Embarked\"].values)"
   ]
  },
  {
   "cell_type": "code",
   "execution_count": null,
   "metadata": {},
   "outputs": [],
   "source": [
    "df[\"Male\"]=df[\"Sex\"]==\"male\"\n",
    "converted=df[\"Male\"].astype(int)\n",
    "df[\"Male\"]=converted"
   ]
  },
  {
   "cell_type": "code",
   "execution_count": null,
   "metadata": {},
   "outputs": [],
   "source": [
    "df.Age.fillna((df[\"Age\"].mean()),inplace=True)\n",
    "df.Pclass.fillna((df[\"Pclass\"].mean()),inplace=True)\n",
    "df.Male.fillna((df[\"Male\"].mean()),inplace=True)\n",
    "df.SibSp.fillna((df[\"SibSp\"].mean()),inplace=True)\n",
    "df.Parch.fillna((df[\"Parch\"].mean()),inplace=True)\n",
    "df.Fare.fillna((df[\"Fare\"].mean()),inplace=True)"
   ]
  },
  {
   "cell_type": "code",
   "execution_count": null,
   "metadata": {},
   "outputs": [],
   "source": []
  },
  {
   "cell_type": "code",
   "execution_count": null,
   "metadata": {},
   "outputs": [],
   "source": [
    "X=df[[\"Pclass\",\"Male\",\"Age\",\"SibSp\",\"Parch\",\"Fare\"]][0:666]\n",
    "X=X.T\n",
    "print(X.shape)\n",
    "print(X.head())"
   ]
  },
  {
   "cell_type": "code",
   "execution_count": null,
   "metadata": {
    "scrolled": false
   },
   "outputs": [],
   "source": [
    "parameters=model(X,Y,[6,6,6,1],\"relu\",\"sigmoid\",50000,0.075,True)"
   ]
  },
  {
   "cell_type": "code",
   "execution_count": null,
   "metadata": {},
   "outputs": [],
   "source": []
  },
  {
   "cell_type": "code",
   "execution_count": null,
   "metadata": {},
   "outputs": [],
   "source": [
    "def testingpseudo(X,Y,parameters,activation1,activation_final):\n",
    "    \"\"\"input:\n",
    "    parameters= a dictionary of parameters that have been trained previously\n",
    "    layerdims=a list containing the amount of nodes in each layer\n",
    "    result= matrix containing the target value\n",
    "    activation1=the activation function for layer 1 - layer L-1\n",
    "    activation2=the activation function for layer L\n",
    "    \n",
    "    \n",
    "    Output:\n",
    "    accuracy=the accuracy of the output that is given by the model\"\"\"\n",
    "    AL,caches=forward_propagation_deep(X, parameters, activation1, activation_final)\n",
    "    m=int(AL.shape[1])\n",
    "    output=np.zeros((1,m))\n",
    "    \n",
    "    for i in range(0,m):\n",
    "        if AL[0,i]>0.5:\n",
    "            output[0,i]=1\n",
    "        else:\n",
    "            output[0,i]=0\n",
    "    accuracy=np.sum((output==Y)/m)\n",
    "    return accuracy"
   ]
  },
  {
   "cell_type": "code",
   "execution_count": null,
   "metadata": {},
   "outputs": [],
   "source": [
    "accuracy=testingpseudo(X,Y,parameters,\"relu\",\"sigmoid\")"
   ]
  },
  {
   "cell_type": "code",
   "execution_count": null,
   "metadata": {},
   "outputs": [],
   "source": [
    "print(accuracy)"
   ]
  },
  {
   "cell_type": "code",
   "execution_count": null,
   "metadata": {},
   "outputs": [],
   "source": []
  },
  {
   "cell_type": "code",
   "execution_count": null,
   "metadata": {},
   "outputs": [],
   "source": [
    "Xtest=df[[\"Pclass\",\"Male\",\"Age\",\"SibSp\",\"Parch\",\"Fare\"]][666:].values\n",
    "Xtest=Xtest.T\n",
    "print(Xtest.shape)\n",
    "\n",
    "Ytest=df[\"Survived\"][666:].values\n",
    "Ytest.reshape(1,-1)\n",
    "print(Ytest.shape)"
   ]
  },
  {
   "cell_type": "code",
   "execution_count": null,
   "metadata": {},
   "outputs": [],
   "source": [
    "accuracy=testingpseudo(Xtest,Ytest,parameters,\"relu\",\"sigmoid\")"
   ]
  },
  {
   "cell_type": "code",
   "execution_count": null,
   "metadata": {},
   "outputs": [],
   "source": [
    "print(accuracy)\n",
    "testdf=pd.read_csv(\"test.csv\")\n",
    "testdf[\"Male\"]=(testdf[\"Sex\"]==\"male\").astype(int)\n",
    "testdf.Age.fillna((df[\"Age\"].mean()),inplace=True)\n",
    "testdf.Pclass.fillna((df[\"Pclass\"].mean()),inplace=True)\n",
    "testdf.Male.fillna((df[\"Male\"].mean()),inplace=True)\n",
    "testdf.SibSp.fillna((df[\"SibSp\"].mean()),inplace=True)\n",
    "testdf.Parch.fillna((df[\"Parch\"].mean()),inplace=True)\n",
    "testdf.Fare.fillna((df[\"Fare\"].mean()),inplace=True)\n",
    "Xpredict=testdf[[\"Pclass\",\"Male\",\"Age\",\"SibSp\",\"Parch\",\"Fare\"]].values\n",
    "Xpredict=Xpredict.T\n",
    "\n",
    "print(Xpredict.shape)"
   ]
  },
  {
   "cell_type": "code",
   "execution_count": null,
   "metadata": {},
   "outputs": [],
   "source": [
    "def predict(X,parameters,activation1,activation_final):\n",
    "    AL,caches=forward_propagation_deep(X, parameters, activation1, activation_final)\n",
    "    m=int(AL.shape[1])\n",
    "    output=np.zeros((1,m))\n",
    "    \n",
    "    for i in range(0,m):\n",
    "        if AL[0,i]>0.5:\n",
    "            output[0,i]=1\n",
    "        else:\n",
    "            output[0,i]=0\n",
    "    return output"
   ]
  },
  {
   "cell_type": "code",
   "execution_count": null,
   "metadata": {},
   "outputs": [],
   "source": [
    "tfpredict=predict(Xpredict,parameters,\"relu\",\"sigmoid\")"
   ]
  },
  {
   "cell_type": "code",
   "execution_count": null,
   "metadata": {},
   "outputs": [],
   "source": [
    "m=Xpredict.shape[1]\n",
    "print(\"Survived: \")\n",
    "count=0\n",
    "for i in range(0,m):\n",
    "    if tfpredict[0,i]==1:\n",
    "        count+=1\n",
    "        print(df[\"Name\"][i])\n",
    "print(\"amount: \"+str(count))\n",
    "print(\"\\n\\nNot survived:\")\n",
    "count=0\n",
    "for i in range(0,m):\n",
    "    if tfpredict[0,i]==0:\n",
    "        count+=1\n",
    "        print(df[\"Name\"][i])\n",
    "print(\"amount: \"+str(count))"
   ]
  },
  {
   "cell_type": "code",
   "execution_count": null,
   "metadata": {},
   "outputs": [],
   "source": [
    "Bryan=np.array([[1],[1],[60],[0],[0],[100]])\n",
    "Bryanpredict=predict(Bryan,parameters,\"relu\",\"sigmoid\")"
   ]
  },
  {
   "cell_type": "code",
   "execution_count": null,
   "metadata": {},
   "outputs": [],
   "source": [
    "print(Bryanpredict)"
   ]
  },
  {
   "cell_type": "code",
   "execution_count": null,
   "metadata": {},
   "outputs": [],
   "source": [
    "data={'PassengerId':testdf[\"PassengerId\"],\n",
    "     'Survived':np.squeeze(tfpredict)}\n",
    "submission=pd.DataFrame(data)\n",
    "submission.to_csv('submission.csv')"
   ]
  },
  {
   "cell_type": "code",
   "execution_count": null,
   "metadata": {},
   "outputs": [],
   "source": [
    "ymeasure=df[\"Survived\"]\n",
    "Xmeasure=df[[\"Pclass\",\"Male\",\"Age\",\"SibSp\",\"Parch\",\"Fare\"]].values\n",
    "Xmeasure=Xmeasure.T\n",
    "Ymeasure_pred=predict(Xmeasure,parameters,\"relu\",\"sigmoid\")\n",
    "Ymeasure_pred=Ymeasure_pred.T\n",
    "print(\"accuracy: \"+str(accuracy_score(ymeasure,Ymeasure_pred)))\n",
    "print(\"precision: \"+str(precision_score(ymeasure,Ymeasure_pred)))\n",
    "print(\"recall: \"+str(recall_score(ymeasure,Ymeasure_pred)))\n",
    "print(\"f1: \"+str(f1_score(ymeasure,Ymeasure_pred)))\n",
    "print(confusion_matrix(ymeasure,Ymeasure_pred))"
   ]
  },
  {
   "cell_type": "code",
   "execution_count": null,
   "metadata": {},
   "outputs": [],
   "source": []
  },
  {
   "cell_type": "code",
   "execution_count": null,
   "metadata": {},
   "outputs": [],
   "source": []
  }
 ],
 "metadata": {
  "kernelspec": {
   "display_name": "Python 3",
   "language": "python",
   "name": "python3"
  },
  "language_info": {
   "codemirror_mode": {
    "name": "ipython",
    "version": 3
   },
   "file_extension": ".py",
   "mimetype": "text/x-python",
   "name": "python",
   "nbconvert_exporter": "python",
   "pygments_lexer": "ipython3",
   "version": "3.7.6"
  }
 },
 "nbformat": 4,
 "nbformat_minor": 4
}
